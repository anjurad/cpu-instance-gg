{
 "cells": [
  {
   "cell_type": "markdown",
   "metadata": {},
   "source": [
    "# Import required libraries"
   ]
  },
  {
   "cell_type": "code",
   "execution_count": 1,
   "metadata": {},
   "outputs": [],
   "source": [
    "from azure.identity import DefaultAzureCredential, InteractiveBrowserCredential\n",
    "from azure.ai.ml import command\n",
    "from azure.ai.ml import Input\n",
    "from azure.ai.ml import load_component\n",
    "from azure.ai.ml import MLClient\n",
    "from azure.ai.ml.entities import AmlCompute\n",
    "from azure.ai.ml.entities import Environment\n",
    "\n",
    "import os\n"
   ]
  },
  {
   "cell_type": "markdown",
   "metadata": {},
   "source": [
    "# Configure Credentials"
   ]
  },
  {
   "cell_type": "code",
   "execution_count": 2,
   "metadata": {},
   "outputs": [],
   "source": [
    "try:\n",
    "    credential = DefaultAzureCredential()\n",
    "    # Check if given credential can get token successfully.\n",
    "    credential.get_token(\"https://management.azure.com/.default\")\n",
    "except Exception as ex:\n",
    "    # Fall back to InteractiveBrowserCredential in case DefaultAzureCredential not work\n",
    "    credential = InteractiveBrowserCredential()\n"
   ]
  },
  {
   "cell_type": "markdown",
   "metadata": {},
   "source": [
    "# Configure workspace details and get a handle to the workspace"
   ]
  },
  {
   "cell_type": "code",
   "execution_count": 3,
   "metadata": {},
   "outputs": [
    {
     "name": "stderr",
     "output_type": "stream",
     "text": [
      "Found the config file in: ./config.json\n",
      "Class WorkspaceHubOperations: This is an experimental class, and may change at any time. Please see https://aka.ms/azuremlexperimental for more information.\n"
     ]
    },
    {
     "name": "stdout",
     "output_type": "stream",
     "text": [
      "MLClient(credential=<azure.identity._credentials.default.DefaultAzureCredential object at 0x1046407c0>,\n",
      "         subscription_id=c4a0cc8e-60ab-48fe-aee1-eb8752ad671a,\n",
      "         resource_group_name=ans-poc-gg-dp-dev,\n",
      "         workspace_name=gg-workspace)\n"
     ]
    }
   ],
   "source": [
    "try:\n",
    "    ml_client = MLClient.from_config(credential=credential)\n",
    "except Exception as ex:\n",
    "    # enter details of your AML workspace\n",
    "    subscription_id = \"c4a0cc8e-60ab-48fe-aee1-eb8752ad671a\"\n",
    "    resource_group = \"ans-poc-gg-dp-dev\"\n",
    "    workspace = \"gg-workspace\"\n",
    "\n",
    "    # get a handle to the workspace\n",
    "    ml_client = MLClient(credential, subscription_id, resource_group, workspace)\n",
    "\n",
    "print(ml_client)\n"
   ]
  },
  {
   "cell_type": "markdown",
   "metadata": {},
   "source": [
    "# Environment"
   ]
  },
  {
   "cell_type": "code",
   "execution_count": 4,
   "metadata": {},
   "outputs": [],
   "source": [
    "dependencies_dir = \"./dependencies\"\n",
    "os.makedirs(dependencies_dir, exist_ok=True)\n"
   ]
  },
  {
   "cell_type": "markdown",
   "metadata": {},
   "source": [
    "## Create yaml file"
   ]
  },
  {
   "cell_type": "code",
   "execution_count": 12,
   "metadata": {},
   "outputs": [
    {
     "name": "stdout",
     "output_type": "stream",
     "text": [
      "Overwriting ./dependencies/conda.yaml\n"
     ]
    }
   ],
   "source": [
    "%%writefile {dependencies_dir}/conda.yaml\n",
    "name: model-env\n",
    "channels:\n",
    "  - conda-forge\n",
    "dependencies:\n",
    "  - python=3.8\n",
    "  - numpy=1.21.2\n",
    "  - pip=21.2.4\n",
    "  - scikit-learn=0.24.2\n",
    "  - scipy=1.7.1\n",
    "  - pandas>=1.1,<1.2\n",
    "  - pip:\n",
    "    - inference-schema[numpy-support]==1.3.0\n",
    "    - mlflow== 2.6.0\n",
    "    - azureml-mlflow==1.53.0\n",
    "    - psutil>=5.8,<5.9\n",
    "    - tqdm>=4.59,<4.60\n",
    "    - ipykernel~=6.0\n",
    "    - matplotlib"
   ]
  },
  {
   "cell_type": "markdown",
   "metadata": {},
   "source": [
    "## Register Environment"
   ]
  },
  {
   "cell_type": "code",
   "execution_count": 13,
   "metadata": {},
   "outputs": [
    {
     "name": "stdout",
     "output_type": "stream",
     "text": [
      "Environment with name aml-scikit-learn is registered to workspace, the environment version is 4\n"
     ]
    }
   ],
   "source": [
    "custom_env_name = \"aml-scikit-learn\"\n",
    "\n",
    "custom_job_env = Environment(\n",
    "    name=custom_env_name,\n",
    "    description=\"Custom environment for Credit Card Defaults job\",\n",
    "    tags={\"scikit-learn\": \"0.24.2\"},\n",
    "    conda_file=os.path.join(dependencies_dir, \"conda.yaml\"),\n",
    "    image=\"mcr.microsoft.com/azureml/openmpi3.1.2-ubuntu18.04:latest\",\n",
    ")\n",
    "custom_job_env = ml_client.environments.create_or_update(custom_job_env)\n",
    "\n",
    "print(\n",
    "    f\"Environment with name {custom_job_env.name} is registered to workspace, the environment version is {custom_job_env.version}\"\n",
    ")\n"
   ]
  },
  {
   "cell_type": "markdown",
   "metadata": {},
   "source": [
    "# Compute"
   ]
  },
  {
   "cell_type": "code",
   "execution_count": 14,
   "metadata": {},
   "outputs": [
    {
     "name": "stdout",
     "output_type": "stream",
     "text": [
      "You already have a cluster named cpu-cluster, we'll reuse it as is.\n"
     ]
    }
   ],
   "source": [
    "# Name assigned to the compute cluster\n",
    "cpu_compute_target = \"cpu-cluster\"\n",
    "\n",
    "try:\n",
    "    # let's see if the compute target already exists\n",
    "    cpu_cluster = ml_client.compute.get(cpu_compute_target)\n",
    "    print(\n",
    "        f\"You already have a cluster named {cpu_compute_target}, we'll reuse it as is.\"\n",
    "    )\n",
    "\n",
    "except Exception:\n",
    "    print(\"Creating a new cpu compute target...\")\n",
    "\n",
    "    # Let's create the Azure Machine Learning compute object with the intended parameters\n",
    "    # if you run into an out of quota error, change the size to a comparable VM that is available.\n",
    "    # Learn more on https://azure.microsoft.com/en-us/pricing/details/machine-learning/.\n",
    "    cpu_cluster = AmlCompute(\n",
    "        name=cpu_compute_target,\n",
    "        # Azure Machine Learning Compute is the on-demand VM service\n",
    "        type=\"amlcompute\",\n",
    "        # VM Family\n",
    "        size=\"STANDARD_DS3_V2\",\n",
    "        # Minimum running nodes when there is no job running\n",
    "        min_instances=0,\n",
    "        # Nodes in cluster\n",
    "        max_instances=4,\n",
    "        # How many seconds will the node running after the job termination\n",
    "        idle_time_before_scale_down=180,\n",
    "        # Dedicated or LowPriority. The latter is cheaper but there is a chance of job termination\n",
    "        tier=\"Dedicated\",\n",
    "    )\n",
    "    print(\n",
    "        f\"AMLCompute with name {cpu_cluster.name} will be created, with compute size {cpu_cluster.size}\"\n",
    "    )\n",
    "    # Now, we pass the object to MLClient's create_or_update method\n",
    "    cpu_cluster = ml_client.compute.begin_create_or_update(cpu_cluster)"
   ]
  },
  {
   "cell_type": "markdown",
   "metadata": {},
   "source": [
    "# Training Script"
   ]
  },
  {
   "cell_type": "code",
   "execution_count": 15,
   "metadata": {},
   "outputs": [],
   "source": [
    "train_src_dir = \"./src\"\n",
    "os.makedirs(train_src_dir, exist_ok=True)\n"
   ]
  },
  {
   "cell_type": "code",
   "execution_count": 24,
   "metadata": {},
   "outputs": [
    {
     "name": "stdout",
     "output_type": "stream",
     "text": [
      "Overwriting ./src/main.py\n"
     ]
    }
   ],
   "source": [
    "%%writefile {train_src_dir}/main.py\n",
    "\n",
    "# imports\n",
    "import os\n",
    "import mlflow\n",
    "import argparse\n",
    "\n",
    "import pandas as pd\n",
    "import matplotlib.pyplot as plt\n",
    "\n",
    "from sklearn.linear_model import LinearRegression\n",
    "from sklearn.model_selection import train_test_split\n",
    "\n",
    "# define functions\n",
    "def main(args):\n",
    "    # enable auto logging\n",
    "    mlflow.autolog()\n",
    "\n",
    "    # setup parameters\n",
    "    params = {\n",
    "        \"fit_intercept\": args.fit_intercept,\n",
    "        \"normalize\": args.normalize,\n",
    "        \"positive\": args.positive,\n",
    "    }\n",
    "\n",
    "    # read in data\n",
    "    df = pd.read_csv(args.data)\n",
    "\n",
    "    # process data\n",
    "    X_train, X_test, y_train, y_test = process_data(df, args.random_state)\n",
    "\n",
    "    # train model\n",
    "    model = train_model(params, X_train, X_test, y_train, y_test)\n",
    "\n",
    "    # Stop Logging\n",
    "    # mlflow.end_run()\n",
    "\n",
    "def process_data(df, random_state):\n",
    "    # split dataframe into X and y\n",
    "    X = df.drop([\"target\"], axis=1)\n",
    "    y = df[\"target\"]\n",
    "\n",
    "    # train/test split\n",
    "    X_train, X_test, y_train, y_test = train_test_split(\n",
    "        X, y, test_size=0.2, random_state=random_state\n",
    "    )\n",
    "\n",
    "    # return splits and encoder\n",
    "    return X_train, X_test, y_train, y_test\n",
    "\n",
    "def train_model(params, X_train, X_test, y_train, y_test):\n",
    "    # train model\n",
    "    model = LinearRegression(**params)\n",
    "    model = model.fit(X_train, y_train)\n",
    "\n",
    "    # Registering the model to the workspace\n",
    "    print(\"Registering the model via MLFlow\")\n",
    "    mlflow.sklearn.log_model(\n",
    "        sk_model=model,\n",
    "        registered_model_name=args.registered_model_name,\n",
    "        artifact_path=args.registered_model_name,\n",
    "    )\n",
    "\n",
    "    # Saving the model to a file\n",
    "    mlflow.sklearn.save_model(\n",
    "        sk_model=model,\n",
    "        path=os.path.join(args.registered_model_name, \"trained_model\"),\n",
    "    )\n",
    "\n",
    "    # return model\n",
    "    return model\n",
    "\n",
    "def parse_args():\n",
    "    # setup arg parser\n",
    "    parser = argparse.ArgumentParser()\n",
    "\n",
    "    # add arguments\n",
    "    parser.add_argument(\"--data\", type=str)\n",
    "    parser.add_argument(\"--random_state\", type=int, default=42)\n",
    "    parser.add_argument(\"--fit_intercept\", type=bool, default=True)\n",
    "    parser.add_argument(\"--normalize\", type=bool, default=False)\n",
    "    parser.add_argument(\"--positive\", type=bool, default=False)\n",
    "    parser.add_argument(\"--registered_model_name\", type=str, help=\"model name\")\n",
    "\n",
    "    # parse args\n",
    "    args = parser.parse_args()\n",
    "\n",
    "    # return args\n",
    "    return args\n",
    "\n",
    "# run script\n",
    "if __name__ == \"__main__\":\n",
    "    # parse args\n",
    "    args = parse_args()\n",
    "\n",
    "    # run main function\n",
    "    main(args)\n"
   ]
  },
  {
   "cell_type": "markdown",
   "metadata": {},
   "source": [
    "# Configure the Command"
   ]
  },
  {
   "cell_type": "code",
   "execution_count": 25,
   "metadata": {},
   "outputs": [],
   "source": [
    "registered_model_name = \"diabetes_model\"\n",
    "\n",
    "job = command(\n",
    "    inputs=dict(\n",
    "        data=Input(\n",
    "            type=\"uri_file\",\n",
    "            path=\"https://azuremlexamples.blob.core.windows.net/datasets/diabetes.csv\",\n",
    "        ),\n",
    "        registered_model_name=registered_model_name,\n",
    "    ),\n",
    "    code=\"./src/\",  # location of source code\n",
    "    command=\"python main.py --data ${{inputs.data}} --registered_model_name ${{inputs.registered_model_name}}\",\n",
    "    environment=\"aml-scikit-learn@latest\",\n",
    "    compute=cpu_compute_target\n",
    "    if (cpu_cluster)\n",
    "    else None,  # No compute needs to be passed to use serverless\n",
    "    display_name=registered_model_name,\n",
    "    experiment_name=\"Diabetes\"\n",
    ")\n"
   ]
  },
  {
   "cell_type": "markdown",
   "metadata": {},
   "source": [
    "# Submit the job"
   ]
  },
  {
   "cell_type": "code",
   "execution_count": 26,
   "metadata": {},
   "outputs": [
    {
     "name": "stderr",
     "output_type": "stream",
     "text": [
      "\u001b[32mUploading src (0.0 MBs): 100%|██████████| 2390/2390 [00:00<00:00, 65109.91it/s]\n",
      "\u001b[39m\n",
      "\n"
     ]
    },
    {
     "data": {
      "text/html": [
       "<table style=\"width:100%\"><tr><th>Experiment</th><th>Name</th><th>Type</th><th>Status</th><th>Details Page</th></tr><tr><td>Diabetes</td><td>sharp_map_zzm4rfv127</td><td>command</td><td>Starting</td><td><a href=\"https://ml.azure.com/runs/sharp_map_zzm4rfv127?wsid=/subscriptions/c4a0cc8e-60ab-48fe-aee1-eb8752ad671a/resourcegroups/ans-poc-gg-dp-dev/workspaces/gg-workspace&amp;tid=3e60f945-19c7-48b2-b721-096ae586d0e5\" target=\"_blank\" rel=\"noopener\">Link to Azure Machine Learning studio</a></td></tr></table>"
      ],
      "text/plain": [
       "Command({'parameters': {}, 'init': False, 'name': 'sharp_map_zzm4rfv127', 'type': 'command', 'status': 'Starting', 'log_files': None, 'description': None, 'tags': {}, 'properties': {'mlflow.source.git.repoURL': 'https://github.com/anjurad/cpu-instance-gg.git', 'mlflow.source.git.branch': 'main', 'mlflow.source.git.commit': 'be0ac0742456429e01b9feda6f1690ac13fa6513', 'azureml.git.dirty': 'True', '_azureml.ComputeTargetType': 'amlctrain', 'ContentSnapshotId': '946b1471-24eb-424e-9252-9de4d7d77c03'}, 'print_as_yaml': True, 'id': '/subscriptions/c4a0cc8e-60ab-48fe-aee1-eb8752ad671a/resourceGroups/ans-poc-gg-dp-dev/providers/Microsoft.MachineLearningServices/workspaces/gg-workspace/jobs/sharp_map_zzm4rfv127', 'Resource__source_path': None, 'base_path': '/Users/gerhardgroenewald/Desktop/Diabetes', 'creation_context': <azure.ai.ml.entities._system_data.SystemData object at 0x12220e970>, 'serialize': <msrest.serialization.Serializer object at 0x12220e910>, 'allowed_keys': {}, 'key_restriction': False, 'logger': <Logger attr_dict (WARNING)>, 'display_name': 'diabetes_model', 'experiment_name': 'Diabetes', 'compute': 'cpu-cluster', 'services': {'Tracking': {'endpoint': 'azureml://uksouth.api.azureml.ms/mlflow/v1.0/subscriptions/c4a0cc8e-60ab-48fe-aee1-eb8752ad671a/resourceGroups/ans-poc-gg-dp-dev/providers/Microsoft.MachineLearningServices/workspaces/gg-workspace?', 'type': 'Tracking'}, 'Studio': {'endpoint': 'https://ml.azure.com/runs/sharp_map_zzm4rfv127?wsid=/subscriptions/c4a0cc8e-60ab-48fe-aee1-eb8752ad671a/resourcegroups/ans-poc-gg-dp-dev/workspaces/gg-workspace&tid=3e60f945-19c7-48b2-b721-096ae586d0e5', 'type': 'Studio'}}, 'comment': None, 'job_inputs': {'data': {'type': 'uri_file', 'path': 'https://azuremlexamples.blob.core.windows.net/datasets/diabetes.csv', 'mode': 'ro_mount'}, 'registered_model_name': 'diabetes_model'}, 'job_outputs': {'default': {'type': 'uri_folder', 'path': 'azureml://datastores/workspaceartifactstore/ExperimentRun/dcid.sharp_map_zzm4rfv127', 'mode': 'rw_mount'}}, 'inputs': {'data': <azure.ai.ml.entities._job.pipeline._io.base.NodeInput object at 0x1222204f0>, 'registered_model_name': <azure.ai.ml.entities._job.pipeline._io.base.NodeInput object at 0x122220940>}, 'outputs': {'default': <azure.ai.ml.entities._job.pipeline._io.base.NodeOutput object at 0x1222206a0>}, 'component': CommandComponent({'intellectual_property': None, 'auto_increment_version': True, 'source': 'REMOTE.WORKSPACE.JOB', 'is_anonymous': False, 'auto_delete_setting': None, 'name': 'sharp_map_zzm4rfv127', 'description': None, 'tags': {}, 'properties': {}, 'print_as_yaml': True, 'id': None, 'Resource__source_path': None, 'base_path': '/Users/gerhardgroenewald/Desktop/Diabetes', 'creation_context': <azure.ai.ml.entities._system_data.SystemData object at 0x12220e970>, 'serialize': <msrest.serialization.Serializer object at 0x12220ea90>, 'command': 'python main.py --data ${{inputs.data}} --registered_model_name ${{inputs.registered_model_name}}', 'code': '/subscriptions/c4a0cc8e-60ab-48fe-aee1-eb8752ad671a/resourceGroups/ans-poc-gg-dp-dev/providers/Microsoft.MachineLearningServices/workspaces/gg-workspace/codes/b250dc0e-ce91-4083-891e-e39ad576ba0f/versions/1', 'environment_variables': {}, 'environment': '/subscriptions/c4a0cc8e-60ab-48fe-aee1-eb8752ad671a/resourceGroups/ans-poc-gg-dp-dev/providers/Microsoft.MachineLearningServices/workspaces/gg-workspace/environments/aml-scikit-learn/versions/4', 'distribution': None, 'resources': None, 'queue_settings': None, 'version': None, 'latest_version': None, 'schema': None, 'type': 'command', 'display_name': 'diabetes_model', 'is_deterministic': True, 'inputs': {'data': {'type': 'uri_file', 'path': 'https://azuremlexamples.blob.core.windows.net/datasets/diabetes.csv', 'mode': 'ro_mount'}, 'registered_model_name': {'type': 'string', 'default': 'diabetes_model'}}, 'outputs': {'default': {'type': 'uri_folder', 'path': 'azureml://datastores/workspaceartifactstore/ExperimentRun/dcid.sharp_map_zzm4rfv127', 'mode': 'rw_mount'}}, 'yaml_str': None, 'other_parameter': {'status': 'Starting', 'parameters': {}}, 'additional_includes': []}), 'referenced_control_flow_node_instance_id': None, 'kwargs': {'services': {'Tracking': {'endpoint': 'azureml://uksouth.api.azureml.ms/mlflow/v1.0/subscriptions/c4a0cc8e-60ab-48fe-aee1-eb8752ad671a/resourceGroups/ans-poc-gg-dp-dev/providers/Microsoft.MachineLearningServices/workspaces/gg-workspace?', 'type': 'Tracking'}, 'Studio': {'endpoint': 'https://ml.azure.com/runs/sharp_map_zzm4rfv127?wsid=/subscriptions/c4a0cc8e-60ab-48fe-aee1-eb8752ad671a/resourcegroups/ans-poc-gg-dp-dev/workspaces/gg-workspace&tid=3e60f945-19c7-48b2-b721-096ae586d0e5', 'type': 'Studio'}}, 'status': 'Starting', 'creation_context': <azure.ai.ml.entities._system_data.SystemData object at 0x12220e970>}, 'instance_id': 'bbe96b4c-1351-43d3-83b7-1af92c38d834', 'source': 'BUILDER', 'validate_required_input_not_provided': True, 'limits': None, 'identity': None, 'distribution': None, 'environment_variables': {}, 'environment': 'aml-scikit-learn:4', 'resources': {'instance_count': 1, 'shm_size': '2g'}, 'queue_settings': None, 'swept': False})"
      ]
     },
     "execution_count": 26,
     "metadata": {},
     "output_type": "execute_result"
    }
   ],
   "source": [
    "ml_client.create_or_update(job)\n"
   ]
  }
 ],
 "metadata": {
  "kernelspec": {
   "display_name": ".venv",
   "language": "python",
   "name": "python3"
  },
  "language_info": {
   "codemirror_mode": {
    "name": "ipython",
    "version": 3
   },
   "file_extension": ".py",
   "mimetype": "text/x-python",
   "name": "python",
   "nbconvert_exporter": "python",
   "pygments_lexer": "ipython3",
   "version": "3.9.13"
  },
  "orig_nbformat": 4
 },
 "nbformat": 4,
 "nbformat_minor": 2
}
